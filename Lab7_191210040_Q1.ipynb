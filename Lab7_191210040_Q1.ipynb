{
  "nbformat": 4,
  "nbformat_minor": 0,
  "metadata": {
    "colab": {
      "name": "Lab7_191210040_Q1.ipynb",
      "provenance": [],
      "collapsed_sections": [],
      "toc_visible": true,
      "authorship_tag": "ABX9TyOwsTasTu/NmPiuHOM5EG3v",
      "include_colab_link": true
    },
    "kernelspec": {
      "name": "python3",
      "display_name": "Python 3"
    },
    "language_info": {
      "name": "python"
    }
  },
  "cells": [
    {
      "cell_type": "markdown",
      "metadata": {
        "id": "view-in-github",
        "colab_type": "text"
      },
      "source": [
        "<a href=\"https://colab.research.google.com/github/Rajk1012/Hierarchical_clustering/blob/main/Lab7_191210040_Q1.ipynb\" target=\"_parent\"><img src=\"https://colab.research.google.com/assets/colab-badge.svg\" alt=\"Open In Colab\"/></a>"
      ]
    },
    {
      "cell_type": "markdown",
      "source": [
        "Importing inbuild libraries of python  "
      ],
      "metadata": {
        "id": "kk4qOGa7XhON"
      }
    },
    {
      "cell_type": "code",
      "execution_count": 207,
      "metadata": {
        "id": "P0JsE3m74Lyk"
      },
      "outputs": [],
      "source": [
        "#Rajkumar(191210040)\n",
        "import numpy as np\n",
        "import pandas as pd\n",
        "from sklearn.metrics.pairwise import euclidean_distances #We can calculate this matrix using 2 for loops, \n",
        "#but this isn't that important to calculate so we directly use this\n",
        "import matplotlib.pyplot as plt"
      ]
    },
    {
      "cell_type": "code",
      "source": [
        "#Rajkumar(191210040)\n",
        "%matplotlib inline"
      ],
      "metadata": {
        "id": "raIKg62IV5x5"
      },
      "execution_count": 208,
      "outputs": []
    },
    {
      "cell_type": "markdown",
      "source": [
        "function for heirarchical clustering"
      ],
      "metadata": {
        "id": "5WHm-2VWX09F"
      }
    },
    {
      "cell_type": "code",
      "source": [
        "#Rajkumar(191210040)\n",
        "def OwnHeirarchical(data, cutoff, linkage):\n",
        "  #This is done using dynamic programming approach\n",
        "  # if 1, it is single linkage else 2 is complete linkage, 3 is average linkage\n",
        "  #Step 1 - Calculate distance matrix\n",
        "  distance_matrix = euclidean_distances(data, data)\n",
        "  #Step 2 - Since matrix is symmetric, we just keep lower triangle matrix\n",
        "  distance_matrix = np.tril(distance_matrix) \n",
        "  #Step 3 - Replace 0 by inf, it makes it easy for us to extract minimum using min function\n",
        "  distance_matrix[distance_matrix == 0] = np.inf\n",
        "  #Initialized a dataframe which will store which point is in which cluster\n",
        "  df = pd.DataFrame(data=np.ones(data.shape[0])*np.inf)\n",
        "  #If user provides impractical cut-off, cluster everthing into one cluster and not listen to user \n",
        "  if cutoff > distance_matrix.shape[0]: \n",
        "      cutoff = distance_matrix.shape[0]\n",
        "  if linkage == 1: #This 1 means formula of single linkage will be used, it is explained ahead\n",
        "      d = {} #This dictionary keeps record of which data points or cluster are merging, hence can be used to make a dendogram\n",
        "      for i in range(0,cutoff):\n",
        "          ij_min = np.unravel_index(distance_matrix.argmin(), distance_matrix.shape) #from the distance matrix, get the minimum distance\n",
        "          #np.unravel_index gives us the position of minimum distance. e.g. (0,4) is where minimum value is present in matrix.\n",
        "          #This is what we need as in Hierarchical clustering, we merge the two pairs with minimum distance\n",
        "          if i == 0:\n",
        "              df.iloc[ij_min[0]] = 0\n",
        "              df.iloc[ij_min[1]] = 0\n",
        "          else:\n",
        "              try:\n",
        "                  a = int(df.iloc[ij_min[0]])\n",
        "              except:\n",
        "                  df.iloc[ij_min[0]] = i\n",
        "                  a = i\n",
        "              try:\n",
        "                  b = int(df.iloc[ij_min[1]])\n",
        "              except:\n",
        "                  df.iloc[ij_min[1]] = i\n",
        "                  b = i\n",
        "              df[(df[0]==a) | (df[0]==b)] = i\n",
        "          d[i] = ij_min\n",
        "          #The if, else code till here is just filling the dataframe as the two points/clusters combine.\n",
        "          #So, for example if 1 and 2 combines, dataframe will have 1 : 0, 2 : 0. Which means point 1 and 2 both are in same cluster (0th cluster)\n",
        "          for j in range(0, ij_min[0]):\n",
        "              #we want to ignore the diagonal, and diagonal is 0. We replaced 0 by infinte. \n",
        "              #So this if condition will skip diagonals\n",
        "              if np.isfinite(distance_matrix[ij_min[0]][j]) and np.isfinite(distance_matrix[ij_min[1]][j]):\n",
        "                  #after two points/cluster are linked, to calculate new distance we take minimum distance for single linkage\n",
        "                  distance_matrix[ij_min[1]][j] = min(distance_matrix[ij_min[0]][j], distance_matrix[ij_min[1]][j])\n",
        "          # To avoid the combined data points/cluster in further calculations, we make them infinte.\n",
        "          #Our if loop above this, will therefore skip the infinite record entries.\n",
        "          distance_matrix[ij_min[0]] = np.inf\n",
        "      return d, df[0].to_numpy()\n",
        "  elif linkage == 2:\n",
        "      d_complete = {}\n",
        "      for i in range(0,cutoff):\n",
        "          ij_min = np.unravel_index(distance_matrix.argmin(), distance_matrix.shape)\n",
        "          if i == 0:\n",
        "              df.iloc[ij_min[0]] = 0\n",
        "              df.iloc[ij_min[1]] = 0\n",
        "          else:\n",
        "              try:\n",
        "                  a = int(df.iloc[ij_min[0]])\n",
        "              except:\n",
        "                  df.iloc[ij_min[0]] = i\n",
        "                  a = i\n",
        "              try:\n",
        "                  b = int(df.iloc[ij_min[1]])\n",
        "              except:\n",
        "                  df.iloc[ij_min[1]] = i\n",
        "                  b = i\n",
        "              df[(df[0]==a) | (df[0]==b)] = i\n",
        "          d_complete[i] = ij_min\n",
        "          for j in range(0, ij_min[0]):\n",
        "              if np.isfinite(distance_matrix[ij_min[0]][j]) and np.isfinite(distance_matrix[ij_min[1]][j]):\n",
        "                  #after two points/cluster are linked, to calculate new distance we take maximum distance for complete linkage\n",
        "                  distance_matrix[ij_min[1]][j] = max(distance_matrix[ij_min[0]][j], distance_matrix[ij_min[1]][j])\n",
        "          distance_matrix[ij_min[0]] = np.inf\n",
        "      return d_complete, df[0].to_numpy()\n",
        "  elif linkage == 3:\n",
        "      d_average = {}\n",
        "      for i in range(0,cutoff):\n",
        "          ij_min = np.unravel_index(distance_matrix.argmin(), distance_matrix.shape)\n",
        "          if i == 0:\n",
        "              df.iloc[ij_min[0]] = 0\n",
        "              df.iloc[ij_min[1]] = 0\n",
        "          else:\n",
        "              try:\n",
        "                  a = int(df.iloc[ij_min[0]])\n",
        "              except:\n",
        "                  df.iloc[ij_min[0]] = i\n",
        "                  a = i\n",
        "              try:\n",
        "                  b = int(df.iloc[ij_min[1]])\n",
        "              except:\n",
        "                  df.iloc[ij_min[1]] = i\n",
        "                  b = i\n",
        "              df[(df[0]==a) | (df[0]==b)] = i\n",
        "          d_average[i] = ij_min\n",
        "          for j in range(0, ij_min[0]):\n",
        "              if np.isfinite(distance_matrix[ij_min[0]][j]) and np.isfinite(distance_matrix[ij_min[1]][j]):\n",
        "                  #after two points/cluster are linked, to calculate new distance we take average distance for average linkage\n",
        "                  distance_matrix[ij_min[1]][j] = (distance_matrix[ij_min[0]][j] + distance_matrix[ij_min[1]][j])/2.0          \n",
        "          distance_matrix[ij_min[0]] = np.inf\n",
        "      return d_average, df[0].to_numpy()"
      ],
      "metadata": {
        "id": "ZG_z7msxV6wO"
      },
      "execution_count": 209,
      "outputs": []
    },
    {
      "cell_type": "markdown",
      "source": [
        "Test on dataset"
      ],
      "metadata": {
        "id": "JkRAXxvuX-on"
      }
    },
    {
      "cell_type": "code",
      "source": [
        "#Rajkumar(191210040)\n",
        "from sklearn import datasets\n",
        "iris = datasets.load_iris()\n",
        "iris_data = iris.data\n",
        "d, target = OwnHeirarchical(iris_data, 147, 1)\n",
        "\n",
        "#147 iterations is cut-off which will give us 3 clusters, 1 is single linkage\n",
        "d #this will show which data points combines when"
      ],
      "metadata": {
        "colab": {
          "base_uri": "https://localhost:8080/"
        },
        "id": "XjHoHu7IWEqC",
        "outputId": "a2e13be3-4360-4382-ce3e-bcea0c825569"
      },
      "execution_count": 210,
      "outputs": [
        {
          "output_type": "execute_result",
          "data": {
            "text/plain": [
              "{0: (39, 7),\n",
              " 1: (17, 0),\n",
              " 2: (34, 9),\n",
              " 3: (48, 10),\n",
              " 4: (132, 128),\n",
              " 5: (28, 27),\n",
              " 6: (81, 80),\n",
              " 7: (96, 95),\n",
              " 8: (4, 0),\n",
              " 9: (27, 0),\n",
              " 10: (37, 4),\n",
              " 11: (40, 17),\n",
              " 12: (47, 3),\n",
              " 13: (49, 7),\n",
              " 14: (91, 63),\n",
              " 15: (92, 82),\n",
              " 16: (137, 116),\n",
              " 17: (3, 2),\n",
              " 18: (7, 0),\n",
              " 19: (9, 1),\n",
              " 20: (12, 1),\n",
              " 21: (21, 19),\n",
              " 22: (38, 8),\n",
              " 23: (46, 19),\n",
              " 24: (30, 29),\n",
              " 25: (45, 1),\n",
              " 26: (75, 65),\n",
              " 27: (93, 57),\n",
              " 28: (99, 96),\n",
              " 29: (138, 127),\n",
              " 30: (95, 88),\n",
              " 31: (80, 69),\n",
              " 32: (29, 9),\n",
              " 33: (139, 112),\n",
              " 34: (126, 123),\n",
              " 35: (26, 23),\n",
              " 36: (42, 38),\n",
              " 37: (89, 53),\n",
              " 38: (97, 74),\n",
              " 39: (25, 9),\n",
              " 40: (84, 66),\n",
              " 41: (143, 120),\n",
              " 42: (11, 7),\n",
              " 43: (23, 7),\n",
              " 44: (43, 26),\n",
              " 45: (127, 70),\n",
              " 46: (147, 110),\n",
              " 47: (73, 63),\n",
              " 48: (82, 67),\n",
              " 49: (19, 17),\n",
              " 50: (58, 54),\n",
              " 51: (65, 58),\n",
              " 52: (116, 103),\n",
              " 53: (145, 141),\n",
              " 54: (146, 123),\n",
              " 55: (78, 63),\n",
              " 56: (144, 140),\n",
              " 57: (148, 136),\n",
              " 58: (6, 2),\n",
              " 59: (52, 50),\n",
              " 60: (87, 68),\n",
              " 61: (94, 90),\n",
              " 62: (122, 105),\n",
              " 63: (56, 51),\n",
              " 64: (113, 101),\n",
              " 65: (130, 107),\n",
              " 66: (140, 120),\n",
              " 67: (142, 113),\n",
              " 68: (86, 52),\n",
              " 69: (149, 127),\n",
              " 70: (31, 20),\n",
              " 71: (124, 120),\n",
              " 72: (36, 10),\n",
              " 73: (88, 61),\n",
              " 74: (128, 104),\n",
              " 75: (136, 115),\n",
              " 76: (66, 55),\n",
              " 77: (69, 53),\n",
              " 78: (2, 1),\n",
              " 79: (8, 3),\n",
              " 80: (10, 0),\n",
              " 81: (24, 11),\n",
              " 82: (35, 1),\n",
              " 83: (90, 89),\n",
              " 84: (77, 52),\n",
              " 85: (121, 101),\n",
              " 86: (61, 55),\n",
              " 87: (76, 58),\n",
              " 88: (63, 61),\n",
              " 89: (74, 71),\n",
              " 90: (133, 83),\n",
              " 91: (18, 5),\n",
              " 92: (104, 103),\n",
              " 93: (33, 32),\n",
              " 94: (120, 112),\n",
              " 95: (16, 10),\n",
              " 96: (13, 8),\n",
              " 97: (129, 125),\n",
              " 98: (20, 17),\n",
              " 99: (32, 15),\n",
              " 100: (101, 83),\n",
              " 101: (123, 72),\n",
              " 102: (71, 58),\n",
              " 103: (83, 72),\n",
              " 104: (112, 104),\n",
              " 105: (141, 139),\n",
              " 106: (1, 0),\n",
              " 107: (85, 56),\n",
              " 108: (44, 5),\n",
              " 109: (115, 110),\n",
              " 110: (125, 102),\n",
              " 111: (98, 57),\n",
              " 112: (111, 103),\n",
              " 113: (131, 117),\n",
              " 114: (110, 77),\n",
              " 115: (15, 14),\n",
              " 116: (67, 64),\n",
              " 117: (54, 51),\n",
              " 118: (79, 69),\n",
              " 119: (64, 53),\n",
              " 120: (70, 63),\n",
              " 121: (72, 63),\n",
              " 122: (119, 72),\n",
              " 123: (14, 10),\n",
              " 124: (22, 6),\n",
              " 125: (60, 57),\n",
              " 126: (107, 102),\n",
              " 127: (114, 101),\n",
              " 128: (103, 100),\n",
              " 129: (59, 53),\n",
              " 130: (51, 50),\n",
              " 131: (135, 130),\n",
              " 132: (100, 83),\n",
              " 133: (134, 103),\n",
              " 134: (118, 105),\n",
              " 135: (5, 4),\n",
              " 136: (62, 53),\n",
              " 137: (68, 62),\n",
              " 138: (108, 103),\n",
              " 139: (55, 51),\n",
              " 140: (41, 8),\n",
              " 141: (106, 84),\n",
              " 142: (109, 102),\n",
              " 143: (117, 105),\n",
              " 144: (57, 53),\n",
              " 145: (105, 102),\n",
              " 146: (102, 100)}"
            ]
          },
          "metadata": {},
          "execution_count": 210
        }
      ]
    },
    {
      "cell_type": "code",
      "source": [
        "#Rajkumar(191210040)\n",
        "target"
      ],
      "metadata": {
        "colab": {
          "base_uri": "https://localhost:8080/"
        },
        "id": "praSZPpWWLuP",
        "outputId": "8fd5bf3b-6019-4ab4-b115-dc787ff032bc"
      },
      "execution_count": 211,
      "outputs": [
        {
          "output_type": "execute_result",
          "data": {
            "text/plain": [
              "array([140., 140., 140., 140., 140., 140., 140., 140., 140., 140., 140.,\n",
              "       140., 140., 140., 140., 140., 140., 140., 140., 140., 140., 140.,\n",
              "       140., 140., 140., 140., 140., 140., 140., 140., 140., 140., 140.,\n",
              "       140., 140., 140., 140., 140., 140., 140., 140., 140., 140., 140.,\n",
              "       140., 140., 140., 140., 140., 140., 146., 146., 146., 144., 146.,\n",
              "       146., 146., 144., 146., 144., 144., 146., 144., 146., 144., 146.,\n",
              "       146., 144., 144., 144., 146., 146., 146., 146., 146., 146., 146.,\n",
              "       146., 146., 144., 144., 144., 144., 146., 146., 146., 146., 144.,\n",
              "       146., 144., 144., 146., 144., 144., 144., 146., 146., 146., 144.,\n",
              "       146., 146., 146., 146., 146., 146., 146., 146., 146., 146., 146.,\n",
              "       146., 146., 146., 146., 146., 146., 146., 146., 146., 146., 146.,\n",
              "       146., 146., 146., 146., 146., 146., 146., 146., 146., 146., 146.,\n",
              "       146., 146., 146., 146., 146., 146., 146., 146., 146., 146., 146.,\n",
              "       146., 146., 146., 146., 146., 146., 146.])"
            ]
          },
          "metadata": {},
          "execution_count": 211
        }
      ]
    },
    {
      "cell_type": "code",
      "source": [
        "#Rajkumar(191210040)\n",
        "#Let's convert it to iris.target format\n",
        "target[target == 140] = 0\n",
        "target[target == 144] = 1\n",
        "target[target == 146] = 2"
      ],
      "metadata": {
        "id": "DmzM_ihzWP89"
      },
      "execution_count": 212,
      "outputs": []
    },
    {
      "cell_type": "code",
      "source": [
        "#Rajkumar(191210040)\n",
        "target"
      ],
      "metadata": {
        "colab": {
          "base_uri": "https://localhost:8080/"
        },
        "id": "BfbJEweyWT5F",
        "outputId": "17257152-ef1e-4f6b-b3fe-78d70017295d"
      },
      "execution_count": 213,
      "outputs": [
        {
          "output_type": "execute_result",
          "data": {
            "text/plain": [
              "array([0., 0., 0., 0., 0., 0., 0., 0., 0., 0., 0., 0., 0., 0., 0., 0., 0.,\n",
              "       0., 0., 0., 0., 0., 0., 0., 0., 0., 0., 0., 0., 0., 0., 0., 0., 0.,\n",
              "       0., 0., 0., 0., 0., 0., 0., 0., 0., 0., 0., 0., 0., 0., 0., 0., 2.,\n",
              "       2., 2., 1., 2., 2., 2., 1., 2., 1., 1., 2., 1., 2., 1., 2., 2., 1.,\n",
              "       1., 1., 2., 2., 2., 2., 2., 2., 2., 2., 2., 1., 1., 1., 1., 2., 2.,\n",
              "       2., 2., 1., 2., 1., 1., 2., 1., 1., 1., 2., 2., 2., 1., 2., 2., 2.,\n",
              "       2., 2., 2., 2., 2., 2., 2., 2., 2., 2., 2., 2., 2., 2., 2., 2., 2.,\n",
              "       2., 2., 2., 2., 2., 2., 2., 2., 2., 2., 2., 2., 2., 2., 2., 2., 2.,\n",
              "       2., 2., 2., 2., 2., 2., 2., 2., 2., 2., 2., 2., 2., 2.])"
            ]
          },
          "metadata": {},
          "execution_count": 213
        }
      ]
    },
    {
      "cell_type": "code",
      "source": [
        "#Rajkumar(191210040)\n",
        "iris.target"
      ],
      "metadata": {
        "colab": {
          "base_uri": "https://localhost:8080/"
        },
        "id": "egzfArNWWZSf",
        "outputId": "de107fa9-b236-4d5b-8df1-3f831205e2be"
      },
      "execution_count": 214,
      "outputs": [
        {
          "output_type": "execute_result",
          "data": {
            "text/plain": [
              "array([0, 0, 0, 0, 0, 0, 0, 0, 0, 0, 0, 0, 0, 0, 0, 0, 0, 0, 0, 0, 0, 0,\n",
              "       0, 0, 0, 0, 0, 0, 0, 0, 0, 0, 0, 0, 0, 0, 0, 0, 0, 0, 0, 0, 0, 0,\n",
              "       0, 0, 0, 0, 0, 0, 1, 1, 1, 1, 1, 1, 1, 1, 1, 1, 1, 1, 1, 1, 1, 1,\n",
              "       1, 1, 1, 1, 1, 1, 1, 1, 1, 1, 1, 1, 1, 1, 1, 1, 1, 1, 1, 1, 1, 1,\n",
              "       1, 1, 1, 1, 1, 1, 1, 1, 1, 1, 1, 1, 2, 2, 2, 2, 2, 2, 2, 2, 2, 2,\n",
              "       2, 2, 2, 2, 2, 2, 2, 2, 2, 2, 2, 2, 2, 2, 2, 2, 2, 2, 2, 2, 2, 2,\n",
              "       2, 2, 2, 2, 2, 2, 2, 2, 2, 2, 2, 2, 2, 2, 2, 2, 2, 2])"
            ]
          },
          "metadata": {},
          "execution_count": 214
        }
      ]
    },
    {
      "cell_type": "markdown",
      "source": [
        "Now let us plot the combined dataset to visualize the data"
      ],
      "metadata": {
        "id": "cZ-L1FjHYI00"
      }
    },
    {
      "cell_type": "code",
      "source": [
        "#Rajkumar(191210040)\n",
        "plt.scatter(iris_data[:,1], iris_data[:,2], c=target, cmap=\"rainbow\")"
      ],
      "metadata": {
        "colab": {
          "base_uri": "https://localhost:8080/",
          "height": 283
        },
        "id": "ZjTiC7nOWcHP",
        "outputId": "a7298158-1ccb-48d3-c327-ff7facf644d3"
      },
      "execution_count": 215,
      "outputs": [
        {
          "output_type": "execute_result",
          "data": {
            "text/plain": [
              "<matplotlib.collections.PathCollection at 0x7fbbb9f21e90>"
            ]
          },
          "metadata": {},
          "execution_count": 215
        },
        {
          "output_type": "display_data",
          "data": {
            "image/png": "[encoded data removed]",
            "text/plain": [
              "<Figure size 432x288 with 1 Axes>"
            ]
          },
          "metadata": {
            "needs_background": "light"
          }
        }
      ]
    },
    {
      "cell_type": "code",
      "source": [
        "#Rajkumar(191210040)\n",
        "plt.scatter(iris_data[:,2], iris_data[:,3], c=target, cmap=\"rainbow\")"
      ],
      "metadata": {
        "colab": {
          "base_uri": "https://localhost:8080/",
          "height": 283
        },
        "id": "n9UlGPaG6HOv",
        "outputId": "4ba1564c-52cc-495d-e759-7f96efeeedc9"
      },
      "execution_count": 216,
      "outputs": [
        {
          "output_type": "execute_result",
          "data": {
            "text/plain": [
              "<matplotlib.collections.PathCollection at 0x7fbbb9ef9d10>"
            ]
          },
          "metadata": {},
          "execution_count": 216
        },
        {
          "output_type": "display_data",
          "data": {
            "image/png": "[encoded data removed]",
            "text/plain": [
              "<Figure size 432x288 with 1 Axes>"
            ]
          },
          "metadata": {
            "needs_background": "light"
          }
        }
      ]
    },
    {
      "cell_type": "code",
      "source": [
        "#Rajkumar(191210040)\n",
        "plt.scatter(iris_data[:,1], iris_data[:,3], c=target, cmap=\"rainbow\")"
      ],
      "metadata": {
        "colab": {
          "base_uri": "https://localhost:8080/",
          "height": 283
        },
        "id": "3mgDwJ8-6K3T",
        "outputId": "b792a5cb-8748-4f2b-cea8-e2e96b91f005"
      },
      "execution_count": 217,
      "outputs": [
        {
          "output_type": "execute_result",
          "data": {
            "text/plain": [
              "<matplotlib.collections.PathCollection at 0x7fbbb9e6e190>"
            ]
          },
          "metadata": {},
          "execution_count": 217
        },
        {
          "output_type": "display_data",
          "data": {
            "image/png": "[encoded data removed]",
            "text/plain": [
              "<Figure size 432x288 with 1 Axes>"
            ]
          },
          "metadata": {
            "needs_background": "light"
          }
        }
      ]
    },
    {
      "cell_type": "markdown",
      "source": [
        "Let's use complete linkage and average linkage and check the performance"
      ],
      "metadata": {
        "id": "AmCRh1rrYVF6"
      }
    },
    {
      "cell_type": "code",
      "source": [
        "#Rajkumar(191210040)\n",
        "d_complete, target_complete = OwnHeirarchical(iris_data, 147, 2) "
      ],
      "metadata": {
        "id": "PW7-QyIiWu7L"
      },
      "execution_count": 218,
      "outputs": []
    },
    {
      "cell_type": "code",
      "source": [
        "#Rajkumar(191210040)\n",
        "target_complete"
      ],
      "metadata": {
        "colab": {
          "base_uri": "https://localhost:8080/"
        },
        "id": "Pc7zCneKW2s4",
        "outputId": "b42a5dd9-8d2f-46f1-8a3a-8db477187b93"
      },
      "execution_count": 219,
      "outputs": [
        {
          "output_type": "execute_result",
          "data": {
            "text/plain": [
              "array([141., 141., 141., 141., 141., 141., 141., 141., 141., 141., 141.,\n",
              "       141., 141., 141., 141., 141., 141., 141., 141., 141., 141., 141.,\n",
              "       141., 141., 141., 141., 141., 141., 141., 141., 141., 141., 141.,\n",
              "       141., 141., 141., 141., 141., 141., 141., 141., 141., 141., 141.,\n",
              "       141., 141., 141., 141., 141., 141., 146., 146., 146., 143., 146.,\n",
              "       143., 146., 143., 146., 143., 143., 143., 143., 143., 143., 146.,\n",
              "       143., 143., 146., 143., 143., 143., 143., 143., 143., 146., 146.,\n",
              "       146., 143., 143., 143., 143., 143., 143., 143., 146., 146., 146.,\n",
              "       143., 143., 143., 143., 143., 143., 143., 143., 143., 143., 143.,\n",
              "       143., 146., 143., 146., 146., 146., 146., 143., 146., 146., 146.,\n",
              "       146., 146., 146., 143., 143., 146., 146., 146., 146., 143., 146.,\n",
              "       143., 146., 143., 146., 146., 143., 143., 146., 146., 146., 146.,\n",
              "       146., 143., 146., 146., 146., 146., 143., 146., 146., 146., 143.,\n",
              "       146., 146., 146., 143., 146., 146., 143.])"
            ]
          },
          "metadata": {},
          "execution_count": 219
        }
      ]
    },
    {
      "cell_type": "code",
      "source": [
        "#Rajkumar(191210040)\n",
        "plt.scatter(iris_data[:,1], iris_data[:,3], c=target_complete, cmap=\"rainbow\")"
      ],
      "metadata": {
        "colab": {
          "base_uri": "https://localhost:8080/",
          "height": 283
        },
        "id": "ubcUUEHKW3gf",
        "outputId": "7ef52634-2053-4748-bf71-89ea3faf21a7"
      },
      "execution_count": 220,
      "outputs": [
        {
          "output_type": "execute_result",
          "data": {
            "text/plain": [
              "<matplotlib.collections.PathCollection at 0x7fbbb9d86350>"
            ]
          },
          "metadata": {},
          "execution_count": 220
        },
        {
          "output_type": "display_data",
          "data": {
            "image/png": "[encoded data removed]",
            "text/plain": [
              "<Figure size 432x288 with 1 Axes>"
            ]
          },
          "metadata": {
            "needs_background": "light"
          }
        }
      ]
    },
    {
      "cell_type": "code",
      "source": [
        "#Rajkumar(191210040)\n",
        "plt.scatter(iris_data[:,1], iris_data[:,3], c=target_complete, cmap=\"rainbow\")"
      ],
      "metadata": {
        "colab": {
          "base_uri": "https://localhost:8080/",
          "height": 283
        },
        "id": "b3RLjwQJ6BYA",
        "outputId": "6adb2c45-13e2-447f-91a9-ab31242f52b0"
      },
      "execution_count": 221,
      "outputs": [
        {
          "output_type": "execute_result",
          "data": {
            "text/plain": [
              "<matplotlib.collections.PathCollection at 0x7fbbb9d41e10>"
            ]
          },
          "metadata": {},
          "execution_count": 221
        },
        {
          "output_type": "display_data",
          "data": {
            "image/png": "[encoded data removed]",
            "text/plain": [
              "<Figure size 432x288 with 1 Axes>"
            ]
          },
          "metadata": {
            "needs_background": "light"
          }
        }
      ]
    },
    {
      "cell_type": "code",
      "source": [
        "#Rajkumar(191210040)\n",
        "#This is because we are plotting it in 2-dimension but the data is in 4-dimensions.\n",
        "#Let's use average linkage now\n",
        "d_average, target_average = OwnHeirarchical(iris_data, 147, 3) #3 is for average linkage\n",
        "d_average"
      ],
      "metadata": {
        "colab": {
          "base_uri": "https://localhost:8080/"
        },
        "id": "Upa2kjKaW9qI",
        "outputId": "1b509fc7-3df9-4373-ad4d-21d02251c139"
      },
      "execution_count": 222,
      "outputs": [
        {
          "output_type": "execute_result",
          "data": {
            "text/plain": [
              "{0: (39, 7),\n",
              " 1: (17, 0),\n",
              " 2: (34, 9),\n",
              " 3: (48, 10),\n",
              " 4: (132, 128),\n",
              " 5: (28, 27),\n",
              " 6: (81, 80),\n",
              " 7: (96, 95),\n",
              " 8: (4, 0),\n",
              " 9: (37, 4),\n",
              " 10: (40, 17),\n",
              " 11: (47, 3),\n",
              " 12: (49, 7),\n",
              " 13: (91, 63),\n",
              " 14: (92, 82),\n",
              " 15: (137, 116),\n",
              " 16: (27, 0),\n",
              " 17: (12, 1),\n",
              " 18: (21, 19),\n",
              " 19: (38, 8),\n",
              " 20: (46, 19),\n",
              " 21: (30, 29),\n",
              " 22: (45, 1),\n",
              " 23: (75, 65),\n",
              " 24: (93, 57),\n",
              " 25: (99, 96),\n",
              " 26: (138, 127),\n",
              " 27: (9, 1),\n",
              " 28: (95, 88),\n",
              " 29: (139, 112),\n",
              " 30: (126, 123),\n",
              " 31: (7, 0),\n",
              " 32: (3, 2),\n",
              " 33: (29, 3),\n",
              " 34: (26, 23),\n",
              " 35: (42, 38),\n",
              " 36: (89, 53),\n",
              " 37: (97, 74),\n",
              " 38: (25, 9),\n",
              " 39: (84, 66),\n",
              " 40: (80, 69),\n",
              " 41: (143, 120),\n",
              " 42: (11, 7),\n",
              " 43: (43, 26),\n",
              " 44: (147, 110),\n",
              " 45: (73, 63),\n",
              " 46: (58, 54),\n",
              " 47: (145, 141),\n",
              " 48: (146, 123),\n",
              " 49: (116, 103),\n",
              " 50: (78, 63),\n",
              " 51: (144, 140),\n",
              " 52: (148, 136),\n",
              " 53: (127, 70),\n",
              " 54: (82, 67),\n",
              " 55: (6, 2),\n",
              " 56: (52, 50),\n",
              " 57: (87, 68),\n",
              " 58: (94, 90),\n",
              " 59: (122, 105),\n",
              " 60: (56, 51),\n",
              " 61: (113, 101),\n",
              " 62: (130, 107),\n",
              " 63: (142, 113),\n",
              " 64: (65, 58),\n",
              " 65: (140, 120),\n",
              " 66: (19, 4),\n",
              " 67: (86, 52),\n",
              " 68: (149, 127),\n",
              " 69: (31, 20),\n",
              " 70: (124, 120),\n",
              " 71: (36, 10),\n",
              " 72: (8, 3),\n",
              " 73: (24, 11),\n",
              " 74: (35, 1),\n",
              " 75: (23, 7),\n",
              " 76: (128, 104),\n",
              " 77: (77, 52),\n",
              " 78: (121, 101),\n",
              " 79: (76, 58),\n",
              " 80: (90, 55),\n",
              " 81: (133, 83),\n",
              " 82: (18, 5),\n",
              " 83: (69, 53),\n",
              " 84: (136, 115),\n",
              " 85: (33, 32),\n",
              " 86: (16, 10),\n",
              " 87: (13, 8),\n",
              " 88: (129, 125),\n",
              " 89: (88, 61),\n",
              " 90: (66, 55),\n",
              " 91: (20, 10),\n",
              " 92: (141, 139),\n",
              " 93: (85, 56),\n",
              " 94: (44, 5),\n",
              " 95: (74, 71),\n",
              " 96: (98, 57),\n",
              " 97: (111, 103),\n",
              " 98: (83, 72),\n",
              " 99: (120, 112),\n",
              " 100: (123, 72),\n",
              " 101: (131, 117),\n",
              " 102: (2, 1),\n",
              " 103: (110, 77),\n",
              " 104: (63, 55),\n",
              " 105: (32, 16),\n",
              " 106: (54, 51),\n",
              " 107: (61, 55),\n",
              " 108: (79, 69),\n",
              " 109: (119, 72),\n",
              " 110: (71, 61),\n",
              " 111: (10, 0),\n",
              " 112: (104, 103),\n",
              " 113: (125, 102),\n",
              " 114: (112, 104),\n",
              " 115: (22, 6),\n",
              " 116: (60, 57),\n",
              " 117: (70, 56),\n",
              " 118: (1, 0),\n",
              " 119: (115, 110),\n",
              " 120: (107, 102),\n",
              " 121: (114, 101),\n",
              " 122: (59, 53),\n",
              " 123: (67, 53),\n",
              " 124: (135, 130),\n",
              " 125: (134, 103),\n",
              " 126: (118, 105),\n",
              " 127: (15, 14),\n",
              " 128: (64, 59),\n",
              " 129: (62, 53),\n",
              " 130: (108, 103),\n",
              " 131: (72, 68),\n",
              " 132: (41, 8),\n",
              " 133: (51, 50),\n",
              " 134: (5, 4),\n",
              " 135: (14, 5),\n",
              " 136: (101, 83),\n",
              " 137: (68, 54),\n",
              " 138: (106, 84),\n",
              " 139: (55, 51),\n",
              " 140: (109, 102),\n",
              " 141: (117, 105),\n",
              " 142: (103, 83),\n",
              " 143: (57, 53),\n",
              " 144: (102, 100),\n",
              " 145: (105, 102),\n",
              " 146: (100, 77)}"
            ]
          },
          "metadata": {},
          "execution_count": 222
        }
      ]
    },
    {
      "cell_type": "code",
      "source": [
        "#Rajkumar(191210040)\n",
        "target_average"
      ],
      "metadata": {
        "colab": {
          "base_uri": "https://localhost:8080/"
        },
        "id": "YP_Sy10BXA0c",
        "outputId": "59bfad87-0b6c-4730-83d2-944f6d868dca"
      },
      "execution_count": 223,
      "outputs": [
        {
          "output_type": "execute_result",
          "data": {
            "text/plain": [
              "array([135., 135., 135., 135., 135., 135., 135., 135., 135., 135., 135.,\n",
              "       135., 135., 135., 135., 135., 135., 135., 135., 135., 135., 135.,\n",
              "       135., 135., 135., 135., 135., 135., 135., 135., 135., 135., 135.,\n",
              "       135., 135., 135., 135., 135., 135., 135., 135., 135., 135., 135.,\n",
              "       135., 135., 135., 135., 135., 135., 146., 146., 146., 143., 146.,\n",
              "       146., 146., 143., 146., 143., 143., 146., 143., 146., 143., 146.,\n",
              "       146., 143., 146., 143., 146., 146., 146., 146., 146., 146., 146.,\n",
              "       146., 146., 143., 143., 143., 143., 146., 146., 146., 146., 146.,\n",
              "       146., 143., 146., 146., 143., 143., 146., 146., 146., 146., 143.,\n",
              "       146., 146., 146., 146., 146., 146., 146., 146., 146., 146., 146.,\n",
              "       146., 146., 146., 146., 146., 146., 146., 146., 146., 146., 146.,\n",
              "       146., 146., 146., 146., 146., 146., 146., 146., 146., 146., 146.,\n",
              "       146., 146., 146., 146., 146., 146., 146., 146., 146., 146., 146.,\n",
              "       146., 146., 146., 146., 146., 146., 146.])"
            ]
          },
          "metadata": {},
          "execution_count": 223
        }
      ]
    },
    {
      "cell_type": "code",
      "source": [
        "#Rajkumar(191210040)\n",
        "target_average[target_average == 135] = 0\n",
        "target_average[target_average == 143] = 1\n",
        "target_average[target_average == 146] = 2\n",
        "\n",
        "target_average\n"
      ],
      "metadata": {
        "colab": {
          "base_uri": "https://localhost:8080/"
        },
        "id": "3UZlgP6XXDhe",
        "outputId": "ac43d657-bc72-42cb-b4a0-138a9c672745"
      },
      "execution_count": 224,
      "outputs": [
        {
          "output_type": "execute_result",
          "data": {
            "text/plain": [
              "array([0., 0., 0., 0., 0., 0., 0., 0., 0., 0., 0., 0., 0., 0., 0., 0., 0.,\n",
              "       0., 0., 0., 0., 0., 0., 0., 0., 0., 0., 0., 0., 0., 0., 0., 0., 0.,\n",
              "       0., 0., 0., 0., 0., 0., 0., 0., 0., 0., 0., 0., 0., 0., 0., 0., 2.,\n",
              "       2., 2., 1., 2., 2., 2., 1., 2., 1., 1., 2., 1., 2., 1., 2., 2., 1.,\n",
              "       2., 1., 2., 2., 2., 2., 2., 2., 2., 2., 2., 1., 1., 1., 1., 2., 2.,\n",
              "       2., 2., 2., 2., 1., 2., 2., 1., 1., 2., 2., 2., 2., 1., 2., 2., 2.,\n",
              "       2., 2., 2., 2., 2., 2., 2., 2., 2., 2., 2., 2., 2., 2., 2., 2., 2.,\n",
              "       2., 2., 2., 2., 2., 2., 2., 2., 2., 2., 2., 2., 2., 2., 2., 2., 2.,\n",
              "       2., 2., 2., 2., 2., 2., 2., 2., 2., 2., 2., 2., 2., 2.])"
            ]
          },
          "metadata": {},
          "execution_count": 224
        }
      ]
    },
    {
      "cell_type": "code",
      "source": [
        "#Rajkumar(191210040)\n",
        "plt.scatter(iris_data[:,1], iris_data[:,2], c=target, cmap=\"rainbow\")"
      ],
      "metadata": {
        "colab": {
          "base_uri": "https://localhost:8080/",
          "height": 283
        },
        "id": "hOyhy0yHXDYP",
        "outputId": "7d8b6e76-7771-4891-e8a8-cadc888d1a3d"
      },
      "execution_count": 225,
      "outputs": [
        {
          "output_type": "execute_result",
          "data": {
            "text/plain": [
              "<matplotlib.collections.PathCollection at 0x7fbbb9cdd7d0>"
            ]
          },
          "metadata": {},
          "execution_count": 225
        },
        {
          "output_type": "display_data",
          "data": {
            "image/png": "[encoded data removed]",
            "text/plain": [
              "<Figure size 432x288 with 1 Axes>"
            ]
          },
          "metadata": {
            "needs_background": "light"
          }
        }
      ]
    },
    {
      "cell_type": "code",
      "source": [
        "#Rajkumar(191210040)\n",
        "plt.scatter(iris_data[:,2], iris_data[:,3], c=target, cmap=\"rainbow\")"
      ],
      "metadata": {
        "colab": {
          "base_uri": "https://localhost:8080/",
          "height": 283
        },
        "id": "lDfFmyXP6Uib",
        "outputId": "339a9905-c5e9-44fa-f623-c89527c88fff"
      },
      "execution_count": 226,
      "outputs": [
        {
          "output_type": "execute_result",
          "data": {
            "text/plain": [
              "<matplotlib.collections.PathCollection at 0x7fbbb9ca8850>"
            ]
          },
          "metadata": {},
          "execution_count": 226
        },
        {
          "output_type": "display_data",
          "data": {
            "image/png": "[encoded data removed]",
            "text/plain": [
              "<Figure size 432x288 with 1 Axes>"
            ]
          },
          "metadata": {
            "needs_background": "light"
          }
        }
      ]
    },
    {
      "cell_type": "code",
      "source": [
        "#Rajkumar(191210040)\n",
        "plt.scatter(iris_data[:,1], iris_data[:,3], c=target, cmap=\"rainbow\")"
      ],
      "metadata": {
        "colab": {
          "base_uri": "https://localhost:8080/",
          "height": 283
        },
        "id": "Z5Hx5Qag6ZPx",
        "outputId": "4bfa57cf-045b-47a1-d107-46a3bc7e2804"
      },
      "execution_count": 227,
      "outputs": [
        {
          "output_type": "execute_result",
          "data": {
            "text/plain": [
              "<matplotlib.collections.PathCollection at 0x7fbbb9c14890>"
            ]
          },
          "metadata": {},
          "execution_count": 227
        },
        {
          "output_type": "display_data",
          "data": {
            "image/png": "[encoded data removed]",
            "text/plain": [
              "<Figure size 432x288 with 1 Axes>"
            ]
          },
          "metadata": {
            "needs_background": "light"
          }
        }
      ]
    },
    {
      "cell_type": "code",
      "source": [
        "#Rajkumar(191210040)\n",
        "100 - (iris.target != target_average).sum()/float(iris.target.size)*100"
      ],
      "metadata": {
        "colab": {
          "base_uri": "https://localhost:8080/"
        },
        "id": "L-Ks-iCcXS4k",
        "outputId": "e8b2788c-37f4-48f3-c2ac-873afef93a39"
      },
      "execution_count": 228,
      "outputs": [
        {
          "output_type": "execute_result",
          "data": {
            "text/plain": [
              "77.33333333333334"
            ]
          },
          "metadata": {},
          "execution_count": 228
        }
      ]
    },
    {
      "cell_type": "code",
      "source": [
        "#Rajkumar(191210040)\n",
        "#So, 77% accuracy. This is lot less than using KMeans on this. Refer my KMeans repo for my KMeans code and example.\n",
        "100 - (iris.target != target).sum()/float(iris.target.size)*100"
      ],
      "metadata": {
        "colab": {
          "base_uri": "https://localhost:8080/"
        },
        "id": "ahiOGiCEXTiN",
        "outputId": "8f209409-7635-4c98-cff6-9dc0eec8b664"
      },
      "execution_count": 229,
      "outputs": [
        {
          "output_type": "execute_result",
          "data": {
            "text/plain": [
              "80.0"
            ]
          },
          "metadata": {},
          "execution_count": 229
        }
      ]
    },
    {
      "cell_type": "code",
      "source": [
        "#Rajkumar(191210040)\n",
        "#Single linkage gave us 80% accuracy compared to average linkage\n",
        "target_complete[target_complete == 141] = 0\n",
        "target_complete[target_complete == 143] = 1\n",
        "target_complete[target_complete == 146] = 2\n",
        "\n",
        "100 - (iris.target != target_complete).sum()/float(iris.target.size)*100"
      ],
      "metadata": {
        "colab": {
          "base_uri": "https://localhost:8080/"
        },
        "id": "agcaOd1MXXM_",
        "outputId": "e5b6fb8d-9465-4ff7-effc-6ee8f54b651a"
      },
      "execution_count": 230,
      "outputs": [
        {
          "output_type": "execute_result",
          "data": {
            "text/plain": [
              "81.33333333333333"
            ]
          },
          "metadata": {},
          "execution_count": 230
        }
      ]
    }
  ]
}